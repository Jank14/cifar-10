{
 "cells": [
  {
   "cell_type": "code",
   "execution_count": 2,
   "metadata": {
    "collapsed": true
   },
   "outputs": [],
   "source": [
    "# From https://www.cs.toronto.edu/~kriz/cifar.html \n",
    "# Returns a dictionary, given a file\n",
    "def unpickle(file):\n",
    "    import pickle\n",
    "    with open(file, 'rb') as fo:\n",
    "        dict = pickle.load(fo, encoding='bytes')\n",
    "    return dict"
   ]
  },
  {
   "cell_type": "code",
   "execution_count": 49,
   "metadata": {},
   "outputs": [
    {
     "name": "stdout",
     "output_type": "stream",
     "text": [
      "dict_keys([b'batch_label', b'filenames', b'labels', b'data'])\n",
      "(40000, 32, 32, 3)\n"
     ]
    }
   ],
   "source": [
    "import numpy as np\n",
    "\n",
    "for file_no in range(4):\n",
    "    filename = \"cifar-10-batches-py/data_batch_\" + str(file_no + 1)\n",
    "    image_batch = unpickle(filename)\n",
    "    if file_no == 0:\n",
    "        image_data = image_batch[b'data'].reshape((-1,3,32,32)).transpose((0,2,3,1))\n",
    "        image_labels = image_batch[b'labels']\n",
    "    else:\n",
    "        new_data = image_batch[b'data'].reshape((-1,3,32,32)).transpose((0,2,3,1))\n",
    "        image_data = np.concatenate([image_data, new_data])\n",
    "        image_labels = np.concatenate([image_labels, image_batch[b'labels']])\n",
    "\n",
    "print(image_batch.keys())\n",
    "print(image_data.shape)\n",
    "\n",
    "test_batch = unpickle(\"cifar-10-batches-py/test_batch\")\n",
    "test_data = test_batch[b'data'].reshape((-1,3,32,32)).transpose((0,2,3,1))\n",
    "test_labels = test_batch[b'labels']"
   ]
  },
  {
   "cell_type": "code",
   "execution_count": 4,
   "metadata": {},
   "outputs": [
    {
     "name": "stdout",
     "output_type": "stream",
     "text": [
      "airplane\n"
     ]
    }
   ],
   "source": [
    "label_names = unpickle(\"cifar-10-batches-py/batches.meta\")[b'label_names']\n",
    "label_names = [l.decode('UTF-8') for l in label_names]"
   ]
  },
  {
   "cell_type": "code",
   "execution_count": 23,
   "metadata": {},
   "outputs": [
    {
     "data": {
      "image/png": "[encoded data removed]",
      "text/plain": [
       "<matplotlib.figure.Figure at 0x1df8090be10>"
      ]
     },
     "metadata": {},
     "output_type": "display_data"
    },
    {
     "name": "stdout",
     "output_type": "stream",
     "text": [
      "deer\n"
     ]
    }
   ],
   "source": [
    "n = 38247\n",
    "#img_batch = image_batch[b'data']\n",
    "#import numpy as np\n",
    "#img_rgb = img.reshape((3,32,32)).transpose((1,2,0))\n",
    "img_rgb = image_data[n]\n",
    "import matplotlib.pyplot as plt\n",
    "plt.figure(figsize=(1.2,1.2))\n",
    "plt.axis('off')\n",
    "plt.imshow(img_rgb)\n",
    "plt.show()\n",
    "print(label_names[image_labels[n]])"
   ]
  },
  {
   "cell_type": "code",
   "execution_count": 58,
   "metadata": {
    "collapsed": true
   },
   "outputs": [],
   "source": [
    "from datetime import datetime\n",
    "now = datetime.utcnow().strftime(\"%Y%m%dT%H%M%S\")\n",
    "root_logdir = \"./log\"\n",
    "logdir = \"{}/run-{}/\".format(root_logdir, now)\n",
    "\n",
    "# Don't write graph to filewriter to allow live monitoring? Write graph to different log?\n",
    "file_writer_train = tf.summary.FileWriter(logdir + '/train')\n",
    "file_writer_test = tf.summary.FileWriter(logdir + 'test')\n",
    "\n",
    "# tensorboard --logdir e:\\Programming\\TensorFlow\\CIFAR-10\\log\n",
    "# Must be executed from same drive (E:) as log-dir"
   ]
  },
  {
   "cell_type": "code",
   "execution_count": 61,
   "metadata": {},
   "outputs": [],
   "source": [
    "import tensorflow as tf\n",
    "height = 32\n",
    "width = 32\n",
    "channels = 3\n",
    "\n",
    "def build_graph():\n",
    "    graph = tf.Graph()\n",
    "    with graph.as_default():\n",
    "        X = tf.placeholder(shape=(None, height, width, channels), dtype=tf.float32)\n",
    "        y = tf.placeholder(shape=(None), dtype=tf.int32)\n",
    "\n",
    "        conv1 = tf.layers.conv2d(X, filters=4, kernel_size=5, strides=[2,2], padding=\"SAME\")\n",
    "        max_pool1 = tf.nn.max_pool(conv1, ksize=[1,2,2,1], strides=[1,2,2,1], padding=\"VALID\")\n",
    "        conv2 = tf.layers.conv2d(max_pool1, filters=4, kernel_size=5, strides=[2,2], padding=\"SAME\")\n",
    "        max_pool2 = tf.nn.max_pool(conv2, ksize=[1,2,2,1], strides=[1,2,2,1], padding=\"VALID\")\n",
    "\n",
    "        fully_conn = tf.layers.dense(max_pool2, 100, name=\"fully_conn\", activation=tf.nn.relu)\n",
    "        flat = tf.contrib.layers.flatten(fully_conn)\n",
    "        logits = tf.layers.dense(flat, 10, name=\"logits\")\n",
    "\n",
    "        with tf.name_scope(\"loss\"):\n",
    "            xentropy = tf.nn.sparse_softmax_cross_entropy_with_logits(labels=y, logits=logits)\n",
    "            loss = tf.reduce_mean(xentropy, name=\"loss\")\n",
    "\n",
    "        learning_rate = 0.01\n",
    "        with tf.name_scope(\"train\"):\n",
    "            optimizer = tf.train.AdamOptimizer(learning_rate)\n",
    "            training_op = optimizer.minimize(loss)\n",
    "    \n",
    "        init = tf.global_variables_initializer()\n",
    "        saver = tf.train.Saver() \n",
    "        \n",
    "        return graph, X, y, logits, loss, training_op, init, saver\n"
   ]
  },
  {
   "cell_type": "code",
   "execution_count": null,
   "metadata": {},
   "outputs": [
    {
     "name": "stdout",
     "output_type": "stream",
     "text": [
      "0 0 Train accuracy: 0.102925 Test accuracy: 0.1033\n",
      "0 10 Train accuracy: 0.099925 Test accuracy: 0.099\n"
     ]
    }
   ],
   "source": [
    "n_epochs = 2\n",
    "batch_size = 1000\n",
    "training_size = image_data.shape[0]\n",
    "\n",
    "no_batches = training_size // batch_size\n",
    "acc_check = 10\n",
    "\n",
    "tf.reset_default_graph()\n",
    "\n",
    "graph, X, y, logits, loss, training_op, init, saver = build_graph()\n",
    "\n",
    "with graph.as_default():\n",
    "    with tf.name_scope(\"eval\"):\n",
    "        correct = tf.nn.in_top_k(logits, y, 1)\n",
    "        accuracy = tf.reduce_mean(tf.cast(correct, tf.float32))\n",
    "        acc_summary = tf.summary.scalar('Accuracy', accuracy)\n",
    "        loss_summary = tf.summary.scalar('Loss', loss)\n",
    "    \n",
    "\n",
    "with tf.Session(graph=graph) as sess:\n",
    "    init.run()\n",
    "    for epoch in range(n_epochs):\n",
    "        for iteration in range(no_batches):\n",
    "            X_batch = image_data[iteration * batch_size:(iteration + 1) * batch_size + 1]\n",
    "            y_batch = image_labels[iteration * batch_size:(iteration + 1) * batch_size + 1]\n",
    "            sess.run(training_op, feed_dict={X: X_batch, y: y_batch})\n",
    "            if (iteration % acc_check == 0):\n",
    "                acc_train = accuracy.eval(feed_dict={X: image_data, y: image_labels})\n",
    "                acc_test = accuracy.eval(feed_dict={X: test_data, y: test_labels})\n",
    "                summary_str_acc_train = acc_summary.eval(feed_dict={X: image_data, y: image_labels})\n",
    "                summary_str_acc_test = acc_summary.eval(feed_dict={X: test_data, y: test_labels})\n",
    "                summary_str_loss_train = loss_summary.eval(feed_dict={X: image_data, y: image_labels})\n",
    "                summary_str_loss_test = loss_summary.eval(feed_dict={X: test_data, y: test_labels})\n",
    "                file_writer_train.add_summary(summary_str_acc_train, epoch * no_batches + iteration)\n",
    "                file_writer_test.add_summary(summary_str_acc_test, epoch * no_batches + iteration)\n",
    "                file_writer_train.add_summary(summary_str_loss_train, epoch * no_batches + iteration)\n",
    "                file_writer_test.add_summary(summary_str_loss_test, epoch * no_batches + iteration)\n",
    "                print(epoch, iteration, \"Train accuracy:\", acc_train, \"Test accuracy:\", acc_test)\n",
    "\n",
    "file_writer_train.close()\n",
    "file_writer_test.close()"
   ]
  },
  {
   "cell_type": "code",
   "execution_count": 43,
   "metadata": {},
   "outputs": [
    {
     "data": {
      "text/plain": [
       "1"
      ]
     },
     "execution_count": 43,
     "metadata": {},
     "output_type": "execute_result"
    }
   ],
   "source": [
    "5 % 2"
   ]
  },
  {
   "cell_type": "code",
   "execution_count": 54,
   "metadata": {
    "collapsed": true
   },
   "outputs": [],
   "source": []
  },
  {
   "cell_type": "code",
   "execution_count": null,
   "metadata": {
    "collapsed": true
   },
   "outputs": [],
   "source": []
  }
 ],
 "metadata": {
  "kernelspec": {
   "display_name": "Python 3",
   "language": "python",
   "name": "python3"
  },
  "language_info": {
   "codemirror_mode": {
    "name": "ipython",
    "version": 3
   },
   "file_extension": ".py",
   "mimetype": "text/x-python",
   "name": "python",
   "nbconvert_exporter": "python",
   "pygments_lexer": "ipython3",
   "version": "3.5.4"
  }
 },
 "nbformat": 4,
 "nbformat_minor": 2
}
